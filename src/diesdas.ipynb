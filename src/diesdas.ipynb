{
 "cells": [
  {
   "attachments": {},
   "cell_type": "markdown",
   "metadata": {},
   "source": [
    "# Datasets\n",
    "\n",
    "1. https://www.kaggle.com/datasets/rkiattisak/salaly-prediction-for-beginer\n",
    "2. https://www.kaggle.com/code/theoviel/kagglers-gender-pay-gap-salary-prediction\n",
    "3. https://www.kaggle.com/datasets/tejashvi14/employee-future-prediction?resource=download\n",
    "4. https://data.world/howarder/gender-by-name + https://www.kaggle.com/datasets/kaggle/sf-salaries"
   ]
  },
  {
   "cell_type": "code",
   "execution_count": 26,
   "metadata": {},
   "outputs": [],
   "source": [
    "import pandas as pd\n",
    "from scipy.stats import ttest_ind"
   ]
  },
  {
   "attachments": {},
   "cell_type": "markdown",
   "metadata": {},
   "source": [
    "## 1. \"Salary prediction for beginners\"\n",
    "\n",
    "- Origin of the data is not clear\n",
    "- Difference in salary between genders is not significant"
   ]
  },
  {
   "cell_type": "code",
   "execution_count": 27,
   "metadata": {},
   "outputs": [
    {
     "name": "stdout",
     "output_type": "stream",
     "text": [
      "      Gender Education Level          Job Title  Years of Experience    Salary\n",
      "Age                                                                           \n",
      "32.0    Male      Bachelor's  Software Engineer                  5.0   90000.0\n",
      "28.0  Female        Master's       Data Analyst                  3.0   65000.0\n",
      "45.0    Male             PhD     Senior Manager                 15.0  150000.0\n",
      "36.0  Female      Bachelor's    Sales Associate                  7.0   60000.0\n",
      "52.0    Male        Master's           Director                 20.0  200000.0\n",
      "Gender\n",
      "Female     97011.173184\n",
      "Male      103867.783505\n",
      "Name: Salary, dtype: float64\n",
      "p-value:  0.08528067764766119\n"
     ]
    }
   ],
   "source": [
    "df = pd.read_csv('../data/1_salary.csv', index_col=0)\n",
    "# for col in df:\n",
    "#     print(df[col].unique())\n",
    "print(df.head())\n",
    "\n",
    "#print average salary for female and male\n",
    "print(df.groupby(\"Gender\")[\"Salary\"].mean())\n",
    "\n",
    "# t-test if difference is significant\n",
    "f_df = df[df[\"Gender\"]==\"Female\"]\n",
    "m_df = df[df[\"Gender\"]==\"Male\"]\n",
    "print(\"p-value: \", ttest_ind(f_df[\"Salary\"], m_df[\"Salary\"], alternative=\"less\")[1])"
   ]
  },
  {
   "attachments": {},
   "cell_type": "markdown",
   "metadata": {},
   "source": [
    "# 2\n"
   ]
  },
  {
   "cell_type": "code",
   "execution_count": 28,
   "metadata": {},
   "outputs": [
    {
     "name": "stderr",
     "output_type": "stream",
     "text": [
      "/tmp/ipykernel_9404/2105290357.py:1: DtypeWarning: Columns (0,2,8,10,21,23,24,25,26,27,28,42,44,54,56,64,81,83,85,87,105,107,109,121,123,125,148,150,157,172,174,192,194,210,218,219,221,223,246,247,249,262,264,276,277,278,279,280,281,282,283,284,285,286,287,288,289,290,302,304,306,325,326,329,341,368,371,384,385,389,390,391,393,394) have mixed types. Specify dtype option on import or set low_memory=False.\n",
      "  df_choice = pd.read_csv('../data/2_salary.csv')\n"
     ]
    }
   ],
   "source": [
    "df_choice = pd.read_csv('../data/2_salary.csv')\n",
    "#drop first column\n",
    "df_choice = df_choice.drop(df_choice.columns[0], axis=1)"
   ]
  },
  {
   "cell_type": "code",
   "execution_count": 29,
   "metadata": {},
   "outputs": [
    {
     "name": "stdout",
     "output_type": "stream",
     "text": [
      "gender\n",
      "What is your gender? - Selected Choice\n",
      "age\n",
      "What is your age (# years)?\n",
      "country\n",
      "In which country do you currently reside?\n",
      "education\n",
      "What is the highest level of formal education that you have attained or plan to attain within the next 2 years?\n",
      "job_title\n",
      "Select the title most similar to your current role (or most recent title if retired): - Selected Choice\n",
      "industry\n",
      "In what industry is your current employer/contract (or your most recent employer if retired)? - Selected Choice\n",
      "experience\n",
      "How many years of experience do you have in your current role?\n",
      "salary\n",
      "What is your current yearly compensation (approximate $USD)?\n"
     ]
    }
   ],
   "source": [
    "column_dict = {\n",
    "    \"gender\": 0,\n",
    "    \"age\": 2,\n",
    "    \"country\": 3,\n",
    "    \"education\": 4,\n",
    "    \"job_title\": 6,\n",
    "    \"industry\": 8,\n",
    "    \"experience\": 10,\n",
    "    \"salary\": 11,\n",
    "}\n",
    "\n",
    "for name, i in column_dict.items():\n",
    "    print(name)\n",
    "    print(df_choice.iloc[0][i])\n",
    "\n",
    "df_choice = df_choice.iloc[:, list(column_dict.values())]"
   ]
  },
  {
   "cell_type": "code",
   "execution_count": 30,
   "metadata": {},
   "outputs": [],
   "source": [
    "# select columns from dataframe and rename them to column_dict keys\n",
    "mapping = dict(zip(df_choice.columns, column_dict.keys()))\n",
    "df_choice = df_choice.rename(columns=mapping)\n",
    "#drop first row\n",
    "df_choice = df_choice.drop(df_choice.index[0])\n"
   ]
  },
  {
   "cell_type": "code",
   "execution_count": 31,
   "metadata": {},
   "outputs": [
    {
     "name": "stdout",
     "output_type": "stream",
     "text": [
      "['10-20,000' '0-10,000' '20-30,000' '125-150,000' '30-40,000' '50-60,000'\n",
      " '100-125,000' '90-100,000' '70-80,000' '80-90,000' '60-70,000'\n",
      " '400-500,000' '40-50,000' '150-200,000' '500,000+' '300-400,000'\n",
      " '200-250,000' '250-300,000']\n",
      "[ 15000   5000  25000 137500  35000  55000 112500  95000  75000  85000\n",
      "  65000 450000  45000 175000 500000 350000 225000 275000]\n"
     ]
    }
   ],
   "source": [
    "df_choice = df_choice[df_choice['salary'].notnull()]\n",
    "df_choice = df_choice[df_choice['salary'] != 'I do not wish to disclose my approximate yearly compensation']\n",
    "print(df_choice[\"salary\"].unique())\n",
    "\n",
    "salary_map = {\n",
    "    '10-20,000': 15000,\n",
    "    '0-10,000': 5000,\n",
    "    '20-30,000': 25000,\n",
    "    '125-150,000': 137500,\n",
    "    '30-40,000': 35000,\n",
    "    '50-60,000': 55000,\n",
    "    '100-125,000': 112500,\n",
    "    '90-100,000': 95000,\n",
    "    '70-80,000': 75000,\n",
    "    '80-90,000': 85000,\n",
    "    '60-70,000': 65000,\n",
    "    '400-500,000': 450000,\n",
    "    '40-50,000': 45000,\n",
    "    '150-200,000': 175000,\n",
    "    '500,000+': 500000,\n",
    "    '300-400,000': 350000,\n",
    "    '200-250,000': 225000,\n",
    "    '250-300,000': 275000\n",
    "}\n",
    "\n",
    "df_choice['salary'] = df_choice['salary'].map(salary_map)\n",
    "\n",
    "print(df_choice[\"salary\"].unique())"
   ]
  },
  {
   "cell_type": "code",
   "execution_count": 33,
   "metadata": {},
   "outputs": [
    {
     "data": {
      "text/plain": [
       "gender\n",
       "Female                      44631.302521\n",
       "Male                        51190.735271\n",
       "Prefer not to say           81653.846154\n",
       "Prefer to self-describe    113443.396226\n",
       "Name: salary, dtype: float64"
      ]
     },
     "execution_count": 33,
     "metadata": {},
     "output_type": "execute_result"
    }
   ],
   "source": [
    "df_choice.groupby(\"gender\")[\"salary\"].mean()"
   ]
  },
  {
   "cell_type": "code",
   "execution_count": 37,
   "metadata": {},
   "outputs": [
    {
     "name": "stdout",
     "output_type": "stream",
     "text": [
      "p-value:  6.207303697046399e-07\n"
     ]
    }
   ],
   "source": [
    "f_df_choice = df_choice[df_choice[\"gender\"]==\"Female\"]\n",
    "m_df_choice = df_choice[df_choice[\"gender\"]==\"Male\"]\n",
    "print(\"p-value: \", ttest_ind(f_df_choice[\"salary\"], m_df_choice[\"salary\"], alternative=\"less\")[1])"
   ]
  },
  {
   "attachments": {},
   "cell_type": "markdown",
   "metadata": {},
   "source": [
    "# 3"
   ]
  },
  {
   "cell_type": "code",
   "execution_count": null,
   "metadata": {},
   "outputs": [
    {
     "name": "stdout",
     "output_type": "stream",
     "text": [
      "           JoiningYear       City  PaymentTier  Age  Gender EverBenched   \n",
      "Education                                                                 \n",
      "Bachelors         2017  Bangalore            3   34    Male          No  \\\n",
      "Bachelors         2013       Pune            1   28  Female          No   \n",
      "Bachelors         2014  New Delhi            3   38  Female          No   \n",
      "Masters           2016  Bangalore            3   27    Male          No   \n",
      "Masters           2017       Pune            3   24    Male         Yes   \n",
      "\n",
      "           ExperienceInCurrentDomain  LeaveOrNot  \n",
      "Education                                         \n",
      "Bachelors                          0           0  \n",
      "Bachelors                          3           1  \n",
      "Bachelors                          2           0  \n",
      "Masters                            5           1  \n",
      "Masters                            2           1  \n",
      "Gender\n",
      "Female    2.537600\n",
      "Male      2.806695\n",
      "Name: PaymentTier, dtype: float64\n",
      "p-value:  1.0\n"
     ]
    }
   ],
   "source": [
    "df_3 = pd.read_csv('../data/Employee.csv', index_col=0)\n",
    "# for col in df:\n",
    "#     print(df[col].unique())\n",
    "print(df_3.head())\n",
    "\n",
    "#print average salary for female and male\n",
    "print(df_3.groupby(\"Gender\")[\"PaymentTier\"].mean())\n",
    "\n",
    "# t-test if difference is significant\n",
    "f_df_3 = df_3[df_3[\"Gender\"]==\"Female\"]\n",
    "m_df_3 = df_3[df_3[\"Gender\"]==\"Male\"]\n",
    "print(\"p-value: \", ttest_ind(f_df_3[\"PaymentTier\"], m_df_3[\"PaymentTier\"], alternative=\"greater\")[1])"
   ]
  },
  {
   "attachments": {},
   "cell_type": "markdown",
   "metadata": {},
   "source": [
    "4."
   ]
  },
  {
   "cell_type": "code",
   "execution_count": null,
   "metadata": {},
   "outputs": [
    {
     "name": "stderr",
     "output_type": "stream",
     "text": [
      "/tmp/ipykernel_95983/3338777636.py:1: DtypeWarning: Columns (3,4,5,6,12) have mixed types. Specify dtype option on import or set low_memory=False.\n",
      "  df_4 = pd.read_csv('../data/4_Salaries.csv', index_col=0)\n"
     ]
    },
    {
     "ename": "KeyError",
     "evalue": "'EmployeeName'",
     "output_type": "error",
     "traceback": [
      "\u001b[0;31m---------------------------------------------------------------------------\u001b[0m",
      "\u001b[0;31mKeyError\u001b[0m                                  Traceback (most recent call last)",
      "File \u001b[0;32m~/.local/lib/python3.10/site-packages/pandas/core/indexes/base.py:3652\u001b[0m, in \u001b[0;36mIndex.get_loc\u001b[0;34m(self, key)\u001b[0m\n\u001b[1;32m   3651\u001b[0m \u001b[39mtry\u001b[39;00m:\n\u001b[0;32m-> 3652\u001b[0m     \u001b[39mreturn\u001b[39;00m \u001b[39mself\u001b[39;49m\u001b[39m.\u001b[39;49m_engine\u001b[39m.\u001b[39;49mget_loc(casted_key)\n\u001b[1;32m   3653\u001b[0m \u001b[39mexcept\u001b[39;00m \u001b[39mKeyError\u001b[39;00m \u001b[39mas\u001b[39;00m err:\n",
      "File \u001b[0;32m~/.local/lib/python3.10/site-packages/pandas/_libs/index.pyx:147\u001b[0m, in \u001b[0;36mpandas._libs.index.IndexEngine.get_loc\u001b[0;34m()\u001b[0m\n",
      "File \u001b[0;32m~/.local/lib/python3.10/site-packages/pandas/_libs/index.pyx:176\u001b[0m, in \u001b[0;36mpandas._libs.index.IndexEngine.get_loc\u001b[0;34m()\u001b[0m\n",
      "File \u001b[0;32mpandas/_libs/hashtable_class_helper.pxi:7080\u001b[0m, in \u001b[0;36mpandas._libs.hashtable.PyObjectHashTable.get_item\u001b[0;34m()\u001b[0m\n",
      "File \u001b[0;32mpandas/_libs/hashtable_class_helper.pxi:7088\u001b[0m, in \u001b[0;36mpandas._libs.hashtable.PyObjectHashTable.get_item\u001b[0;34m()\u001b[0m\n",
      "\u001b[0;31mKeyError\u001b[0m: 'EmployeeName'",
      "\nThe above exception was the direct cause of the following exception:\n",
      "\u001b[0;31mKeyError\u001b[0m                                  Traceback (most recent call last)",
      "Cell \u001b[0;32mIn[95], line 15\u001b[0m\n\u001b[1;32m      2\u001b[0m df_gender \u001b[39m=\u001b[39m pd\u001b[39m.\u001b[39mread_csv(\u001b[39m'\u001b[39m\u001b[39m../data/name_gender.csv\u001b[39m\u001b[39m'\u001b[39m, index_col\u001b[39m=\u001b[39m\u001b[39m0\u001b[39m)\n\u001b[1;32m      3\u001b[0m \u001b[39m# # for col in df:\u001b[39;00m\n\u001b[1;32m      4\u001b[0m \u001b[39m# #     print(df[col].unique())\u001b[39;00m\n\u001b[1;32m      5\u001b[0m \u001b[39m# print(df_3.head())\u001b[39;00m\n\u001b[0;32m   (...)\u001b[0m\n\u001b[1;32m     12\u001b[0m \u001b[39m# m_df_3 = df_3[df_3[\"Gender\"]==\"Male\"]\u001b[39;00m\n\u001b[1;32m     13\u001b[0m \u001b[39m# print(\"p-value: \", ttest_ind(f_df_3[\"PaymentTier\"], m_df_3[\"PaymentTier\"], alternative=\"greater\")[1])\u001b[39;00m\n\u001b[0;32m---> 15\u001b[0m df_4[[\u001b[39m'\u001b[39m\u001b[39mfirstName\u001b[39m\u001b[39m'\u001b[39m,\u001b[39m'\u001b[39m\u001b[39mlastName\u001b[39m\u001b[39m'\u001b[39m]] \u001b[39m=\u001b[39m df[\u001b[39m\"\u001b[39;49m\u001b[39mEmployeeName\u001b[39;49m\u001b[39m\"\u001b[39;49m]\u001b[39m.\u001b[39mstr\u001b[39m.\u001b[39msplit(\u001b[39m\"\u001b[39m\u001b[39m \u001b[39m\u001b[39m\"\u001b[39m, \u001b[39m1\u001b[39m, expand\u001b[39m=\u001b[39m\u001b[39mTrue\u001b[39;00m)\n\u001b[1;32m     17\u001b[0m \u001b[39mprint\u001b[39m(df_4\u001b[39m.\u001b[39mhead())\n",
      "File \u001b[0;32m~/.local/lib/python3.10/site-packages/pandas/core/frame.py:3761\u001b[0m, in \u001b[0;36mDataFrame.__getitem__\u001b[0;34m(self, key)\u001b[0m\n\u001b[1;32m   3759\u001b[0m \u001b[39mif\u001b[39;00m \u001b[39mself\u001b[39m\u001b[39m.\u001b[39mcolumns\u001b[39m.\u001b[39mnlevels \u001b[39m>\u001b[39m \u001b[39m1\u001b[39m:\n\u001b[1;32m   3760\u001b[0m     \u001b[39mreturn\u001b[39;00m \u001b[39mself\u001b[39m\u001b[39m.\u001b[39m_getitem_multilevel(key)\n\u001b[0;32m-> 3761\u001b[0m indexer \u001b[39m=\u001b[39m \u001b[39mself\u001b[39;49m\u001b[39m.\u001b[39;49mcolumns\u001b[39m.\u001b[39;49mget_loc(key)\n\u001b[1;32m   3762\u001b[0m \u001b[39mif\u001b[39;00m is_integer(indexer):\n\u001b[1;32m   3763\u001b[0m     indexer \u001b[39m=\u001b[39m [indexer]\n",
      "File \u001b[0;32m~/.local/lib/python3.10/site-packages/pandas/core/indexes/base.py:3654\u001b[0m, in \u001b[0;36mIndex.get_loc\u001b[0;34m(self, key)\u001b[0m\n\u001b[1;32m   3652\u001b[0m     \u001b[39mreturn\u001b[39;00m \u001b[39mself\u001b[39m\u001b[39m.\u001b[39m_engine\u001b[39m.\u001b[39mget_loc(casted_key)\n\u001b[1;32m   3653\u001b[0m \u001b[39mexcept\u001b[39;00m \u001b[39mKeyError\u001b[39;00m \u001b[39mas\u001b[39;00m err:\n\u001b[0;32m-> 3654\u001b[0m     \u001b[39mraise\u001b[39;00m \u001b[39mKeyError\u001b[39;00m(key) \u001b[39mfrom\u001b[39;00m \u001b[39merr\u001b[39;00m\n\u001b[1;32m   3655\u001b[0m \u001b[39mexcept\u001b[39;00m \u001b[39mTypeError\u001b[39;00m:\n\u001b[1;32m   3656\u001b[0m     \u001b[39m# If we have a listlike key, _check_indexing_error will raise\u001b[39;00m\n\u001b[1;32m   3657\u001b[0m     \u001b[39m#  InvalidIndexError. Otherwise we fall through and re-raise\u001b[39;00m\n\u001b[1;32m   3658\u001b[0m     \u001b[39m#  the TypeError.\u001b[39;00m\n\u001b[1;32m   3659\u001b[0m     \u001b[39mself\u001b[39m\u001b[39m.\u001b[39m_check_indexing_error(key)\n",
      "\u001b[0;31mKeyError\u001b[0m: 'EmployeeName'"
     ]
    }
   ],
   "source": [
    "import pandas as pd\n",
    "from scipy.stats import ttest_ind\n",
    "\n",
    "df_4 = pd.read_csv('Salaries.csv', index_col=0)\n",
    "df_gender = pd.read_csv('name_gender.csv', index_col=0)\n",
    "\n",
    "df_4 = df_4[df_4.EmployeeName != \"Not Provided\"]\n",
    "df_4 = df_4[df_4.EmployeeName != \"Not provided\"]\n",
    "df_4[['name','lastName']] = df_4[\"EmployeeName\"].str.split(\" \", 1, expand=True)\n",
    "\n",
    "df_4 = pd.merge(df_4, df_gender, on=\"name\")\n",
    "\n",
    "df_4\n",
    "\n",
    "#print average salary for female and male\n",
    "print(df_4.groupby(\"gender\")[\"TotalPayBenefits\"].mean())\n",
    "\n",
    "# t-test if difference is significant\n",
    "f_df_4 = df_4[df_4[\"gender\"]==\"F\"]\n",
    "m_df_4 = df_4[df_4[\"gender\"]==\"M\"]\n",
    "print(len(m_df_4[\"gender\"])) \n",
    "print(\"p-value: \", ttest_ind(f_df_4[\"TotalPayBenefits\"], m_df_4[\"TotalPayBenefits\"], alternative=\"two-sided\")[1])"
   ]
  }
 ],
 "metadata": {
  "kernelspec": {
   "display_name": "base",
   "language": "python",
   "name": "python3"
  },
  "language_info": {
   "codemirror_mode": {
    "name": "ipython",
    "version": 3
   },
   "file_extension": ".py",
   "mimetype": "text/x-python",
   "name": "python",
   "nbconvert_exporter": "python",
   "pygments_lexer": "ipython3",
   "version": "3.10.10"
  },
  "orig_nbformat": 4
 },
 "nbformat": 4,
 "nbformat_minor": 2
}
